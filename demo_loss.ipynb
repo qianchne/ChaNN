{
 "cells": [
  {
   "cell_type": "code",
   "execution_count": null,
   "metadata": {},
   "outputs": [],
   "source": [
    "### chan 2020/11/23\n",
    "import numpy as np"
   ]
  },
  {
   "cell_type": "code",
   "execution_count": null,
   "metadata": {},
   "outputs": [],
   "source": [
    "### MSE\n",
    "def loss_MSE(z_predict ,z_true):\n",
    "    loss = np.mean(np.sum(np.square(y_predict-y_true),axis=-1))\n",
    "    dzLast = z_predict - z_true\n",
    "    return loss, dzLast\n",
    "\n",
    "### Cross Entropy\n",
    "def loss_CrossEntropy(z_predict, z_true):\n",
    "    ### in order to avoid overflow, y_predict should shift to a relatively small value and this thift will not change result of softmax \n",
    "    z_exp = np.exp(z_predict - np.max(z_predict, axis=-1, keepdims=True))\n",
    "    \n",
    "    ### calculate softmax before using cross entropy.\n",
    "    z_probability = z_exp / np.sum(z_exp, axis=-1, keepdims=True)\n",
    "    loss = np.mean(np.sum(z_exp, axis=-1, keepdims=True))\n",
    "    dzLast = z_probability - z_true\n",
    "    return loss, dzLast\n",
    "    "
   ]
  },
  {
   "cell_type": "code",
   "execution_count": 4,
   "metadata": {},
   "outputs": [
    {
     "name": "stdout",
     "output_type": "stream",
     "text": [
      "[[2 5]\n",
      " [5 5]]\n",
      "[[1.41421356 2.23606798]\n",
      " [2.23606798 2.23606798]]\n",
      "[[0.5 0.4]\n",
      " [0.4 0.4]]\n"
     ]
    }
   ],
   "source": [
    "import numpy as np\n",
    "\n",
    "a = [[1,2],[2,2]]\n",
    "b = np.square(a)+1\n",
    "print(np.square(a)+1)\n",
    "print(np.sqrt(b))\n",
    "print(a/b)"
   ]
  },
  {
   "cell_type": "code",
   "execution_count": null,
   "metadata": {},
   "outputs": [],
   "source": []
  }
 ],
 "metadata": {
  "kernelspec": {
   "display_name": "tensorflow",
   "language": "python",
   "name": "tensorflow"
  },
  "language_info": {
   "codemirror_mode": {
    "name": "ipython",
    "version": 3
   },
   "file_extension": ".py",
   "mimetype": "text/x-python",
   "name": "python",
   "nbconvert_exporter": "python",
   "pygments_lexer": "ipython3",
   "version": "3.6.11"
  }
 },
 "nbformat": 4,
 "nbformat_minor": 2
}
