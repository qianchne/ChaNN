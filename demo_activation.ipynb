{
 "cells": [
  {
   "cell_type": "code",
   "execution_count": 1,
   "metadata": {},
   "outputs": [],
   "source": [
    "### chan 2020/11/24\n",
    "import numpy as np"
   ]
  },
  {
   "cell_type": "code",
   "execution_count": 4,
   "metadata": {},
   "outputs": [],
   "source": [
    "### ReLU\n",
    "def ReLU_forward(z):\n",
    "    return np.maximum(0, z)\n",
    "\n",
    "def ReLU_backward(dzNext, z):\n",
    "    '''\n",
    "    dzNext: gradient after activate function\n",
    "    z: input of activation function\n",
    "    '''\n",
    "    dz = np.where(np.greater(z, 0), next_dz, 0)\n",
    "    return dz\n",
    "#x = np.ones([2,2,2])\n",
    "#print(x)\n",
    "#print(ReLU_forward(x))\n",
    "#print(PeLU_back)"
   ]
  },
  {
   "cell_type": "code",
   "execution_count": null,
   "metadata": {},
   "outputs": [],
   "source": [
    "### LeakyReLU\n",
    "def LeakyReLU_forward(z, alpha=0.1):\n",
    "    ## if z>0, return z. if z<0, return alpha*z.\n",
    "    return np.where(np.greater(z, 0), z, alpha*z)\n",
    "\n",
    "def LeakyReLU_backward(dzNext, z, alpha=0.1):\n",
    "    return np.where(np.greater(z, 0), dzNext, 0.1*dzNext)"
   ]
  },
  {
   "cell_type": "code",
   "execution_count": null,
   "metadata": {},
   "outputs": [],
   "source": [
    "###  "
   ]
  }
 ],
 "metadata": {
  "kernelspec": {
   "display_name": "tensorflow",
   "language": "python",
   "name": "tensorflow"
  },
  "language_info": {
   "codemirror_mode": {
    "name": "ipython",
    "version": 3
   },
   "file_extension": ".py",
   "mimetype": "text/x-python",
   "name": "python",
   "nbconvert_exporter": "python",
   "pygments_lexer": "ipython3",
   "version": "3.6.11"
  }
 },
 "nbformat": 4,
 "nbformat_minor": 2
}
